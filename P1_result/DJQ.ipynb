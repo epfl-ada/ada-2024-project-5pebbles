{
 "cells": [
  {
   "cell_type": "markdown",
   "id": "4a6cf64e-80a3-4c42-a78a-4f829fade06b",
   "metadata": {},
   "source": [
    "# DJQ's P1 ideas and feedbacks.\n",
    "\n",
    "The blue paragraphs indicate the feedback."
   ]
  },
  {
   "cell_type": "markdown",
   "id": "7d3bb885-636a-4350-b4b4-40f9dd844b97",
   "metadata": {},
   "source": [
    "# Overall feedback\n",
    "<span style=\"color:blue;\">\n",
    "\n",
    "The concepts have strong potential, addressing feasibility concerns and providing more detailed plans for execution would improve the overall quality of the proposals."
   ]
  },
  {
   "cell_type": "markdown",
   "id": "e0374946-a604-4c26-aec4-92b6b58e7560",
   "metadata": {},
   "source": [
    "```\n",
    "1. Key Elements of Movie Success\n",
    "\n",
    "What are the key elements or combinations of elements that contribute to a movie's success?\n",
    "We now possess extensive data on films that allows us to analyze how various attributes or combinations influence box office performance and critical reception. Expected factors include movie metadata such as genre, acting performances, release date, production company, country of origin, and director. Additionally, the film's narrative should be considered, including the number of protagonists, frequency of emotional engagement, and overarching themes. By examining films from different eras, we can determine whether certain elements remain constant or evolve over time, providing insights into changing audience preferences and industry standards. This will help me understand the essential components for creating successful films in today's market.\n",
    "```"
   ]
  },
  {
   "cell_type": "markdown",
   "id": "3e9df366-043e-43cf-8015-41f6bded98ca",
   "metadata": {},
   "source": [
    "<span style=\"color:blue;\">\n",
    "\\\\\\\\Idea 1: Good idea with a lot of possible avenues to pursue. Could potentially be extended so its a bit more on the creative side.  "
   ]
  },
  {
   "cell_type": "markdown",
   "id": "cd6315a4-6a33-4088-87e7-f512c65e4a8b",
   "metadata": {},
   "source": [
    "```\n",
    "2. Trends in Audience Preferences for Movie Content\n",
    "\n",
    "As times change, so too do audience interests in film content. I am particularly curious about the trends in audience preferences regarding genres and themes as time goes by. I want to explore the popularity of various types across different eras, including action, romance, horror, and documentaries. Additionally, the evolution of story themes—such as social issues, personal journeys, and fantastical narratives—and their resonance with audiences at different historical moments is of great interest to me. I hope to chart these trends to gain valuable insights and predict shifts in future film narratives.\n",
    "```"
   ]
  },
  {
   "cell_type": "markdown",
   "id": "0624fdb1-f6fb-475a-bbc1-d098dc7c99f6",
   "metadata": {},
   "source": [
    "<span style=\"color:blue;\">\n",
    "\\\\\\\\Idea 2: Creative idea, however you fail to mention that you would need an external dataset, as CMU does not have information about audience. Some suggestions - IMDB datasets."
   ]
  },
  {
   "cell_type": "markdown",
   "id": "c1ca1f6e-753d-4d59-80b0-74fb2f755d5c",
   "metadata": {},
   "source": [
    "```\n",
    "3. Trends in Movie Ending Presentation\n",
    "\n",
    "I also wish to study the evolution of how movie endings are presented. Classic narratives often conclude with a clear resolution, whether tragic or comedic, providing a definitive closure. However, it seems that films with ambiguous endings are becoming more common today. I want to understand how audience attitudes toward these types of endings have shifted. This analysis will encompass films of various genres and time periods, examining the reception of different ending styles across eras, with box office performance and ratings as evaluation criteria. As for methodology, I plan to use text analysis models or related techniques to input movie summaries, identifying and categorizing different types of endings—such as closed, open (ambiguous)—and judging them (e.g., good ending, bad ending, open ending). Next, I will assess the degree to which different narrative closures are accepted by audiences, essentially measuring satisfaction. This exploration will reveal changes in cinematic storytelling techniques and may reflect contemporary audience attitudes towards films, alongside broader societal shifts.\n"
   ]
  },
  {
   "cell_type": "markdown",
   "id": "d09ccccb-cfb2-412a-8a44-ff05d81876ee",
   "metadata": {},
   "source": [
    "<span style=\"color:blue;\">\n",
    "\\\\\\\\Idea 3: I love this idea! Its creative and unique, and can tell a compelling data story. One point of concern - feasibility. You say you will categorize endings (good, bad, open) - I currently cannot think of an idea that can do this effectively and precisely. How will you asses the satisfaction, I assume through ratings? If so, you would need an external dataset (IMDB ratings for example, or reviews). The core of the idea is great, however I am afraid that it might be too dificult."
   ]
  }
 ],
 "metadata": {
  "kernelspec": {
   "display_name": "Python3",
   "language": "python",
   "name": "python3"
  },
  "language_info": {
   "codemirror_mode": {
    "name": "ipython",
    "version": 3
   },
   "file_extension": ".py",
   "mimetype": "text/x-python",
   "name": "python",
   "nbconvert_exporter": "python",
   "pygments_lexer": "ipython3",
   "version": "3.12.5"
  }
 },
 "nbformat": 4,
 "nbformat_minor": 5
}
