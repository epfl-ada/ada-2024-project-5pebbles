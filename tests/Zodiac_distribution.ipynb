{
 "cells": [
  {
   "cell_type": "markdown",
   "id": "f4855674-7fe9-4dd2-a8c3-2dd0ec682a48",
   "metadata": {},
   "source": [
    "## 1. Data Importing\n",
    "\n",
    "This section addresses the following question:\n",
    "\n",
    "_(1) Is the distribution of actors born under each zodiac sign even? Which zodiac sign has the highest representation among actors?_\n",
    "\n",
    "First, we should **import the dataset**.\n"
   ]
  },
  {
   "cell_type": "code",
   "execution_count": 1,
   "id": "a311b38e-bd1f-4571-afd2-454101c685f6",
   "metadata": {
    "execution": {
     "iopub.execute_input": "2024-11-15T10:20:05.012027Z",
     "iopub.status.busy": "2024-11-15T10:20:05.009887Z",
     "iopub.status.idle": "2024-11-15T10:20:07.088248Z",
     "shell.execute_reply": "2024-11-15T10:20:07.083960Z",
     "shell.execute_reply.started": "2024-11-15T10:20:05.011987Z"
    }
   },
   "outputs": [],
   "source": [
    "import pandas as pd\n",
    "\n",
    "def getCharacterMeta(filepath):\n",
    "    CharacterMeta = pd.read_csv(filepath, sep='\\t')\n",
    "    \n",
    "    CharacterMeta.columns = [\n",
    "        'Wikipedia movie ID',\n",
    "        'Freebase movie ID',\n",
    "        'Movie release date',\n",
    "        'Character name',\n",
    "        'Actor date of birth',\n",
    "        'Actor gender',\n",
    "        'Actor height',\n",
    "        'Actor ethnicity',\n",
    "        'Actor name',\n",
    "        'Actor age at movie release',\n",
    "        'Freebase character/actor map ID',\n",
    "        'Freebase character ID',\n",
    "        'Freebase actor ID'\n",
    "    ]\n",
    "    return CharacterMeta\n",
    "\n",
    "# Load Data\n",
    "file_path = \"../data/RawDatasets/MovieSummaries/character.metadata.tsv\"\n",
    "CharacterMeta = getCharacterMeta(file_path)\n"
   ]
  },
  {
   "cell_type": "code",
   "execution_count": 2,
   "id": "525c0171-749b-454a-9110-c7128a83cf3c",
   "metadata": {
    "execution": {
     "iopub.execute_input": "2024-11-15T10:20:07.089623Z",
     "iopub.status.busy": "2024-11-15T10:20:07.089252Z",
     "iopub.status.idle": "2024-11-15T10:20:07.100323Z",
     "shell.execute_reply": "2024-11-15T10:20:07.098461Z",
     "shell.execute_reply.started": "2024-11-15T10:20:07.089589Z"
    }
   },
   "outputs": [
    {
     "name": "stdout",
     "output_type": "stream",
     "text": [
      "Total records: 330572\n"
     ]
    }
   ],
   "source": [
    "total_records = len(CharacterMeta)\n",
    "print(f\"Total records: {total_records}\")\n"
   ]
  },
  {
   "cell_type": "markdown",
   "id": "d8df8a7b-e622-4147-9f54-93fd359d6550",
   "metadata": {},
   "source": [
    "\n",
    "## 2, Data Revealing\n",
    "\n",
    "To get as much as **valid data** as we can, I want to check the data format, and transform some of them if possible.\n",
    "Now, I will explore the data format for the 'Actor date of birth' column."
   ]
  },
  {
   "cell_type": "code",
   "execution_count": 3,
   "id": "e71341b0-6176-4ec3-950a-d76f2ae6c494",
   "metadata": {
    "execution": {
     "iopub.execute_input": "2024-11-15T10:20:07.101863Z",
     "iopub.status.busy": "2024-11-15T10:20:07.101466Z",
     "iopub.status.idle": "2024-11-15T10:20:07.359610Z",
     "shell.execute_reply": "2024-11-15T10:20:07.357622Z",
     "shell.execute_reply.started": "2024-11-15T10:20:07.101825Z"
    }
   },
   "outputs": [
    {
     "name": "stdout",
     "output_type": "stream",
     "text": [
      "Date Formats in Actor date of birth:\n",
      "                       Presentation  Count  Length\n",
      "0                               ''  77671       0\n",
      "22                          '1953'    164       4\n",
      "23                          '1958'    162       4\n",
      "25                          '1941'    156       4\n",
      "28                          '1968'    155       4\n",
      "9506                  '1971-10-06'      8      10\n",
      "9505                  '1969-10-03'      8      10\n",
      "9504                  '1901-09-12'      8      10\n",
      "13269     '1961-08-04T19:24-10:00'      5      22\n",
      "11184  '1930-01-01T00:00:00-04:00'      6      25\n"
     ]
    }
   ],
   "source": [
    "df_dates = CharacterMeta['Actor date of birth'].fillna(\"\").copy()\n",
    "df_dates = \"'\" + df_dates + \"'\"\n",
    "\n",
    "# Get value_counts from dataset, and reset index\n",
    "date_formats = df_dates.value_counts(dropna=False).reset_index()\n",
    "date_formats.columns = ['Presentation', 'Count']\n",
    "date_formats['Length'] = date_formats['Presentation'].apply(len)-2  # Account for quotes\n",
    "\n",
    "date_formats = date_formats.sort_values(by='Length')\n",
    "\n",
    "combined_formats = pd.concat([date_formats.head(), date_formats.tail(5)])\n",
    "print(\"Date Formats in Actor date of birth:\\n\", combined_formats)"
   ]
  },
  {
   "cell_type": "code",
   "execution_count": 4,
   "id": "40fac092-14b3-4e3c-a08b-533eab173876",
   "metadata": {
    "execution": {
     "iopub.execute_input": "2024-11-15T10:20:07.361829Z",
     "iopub.status.busy": "2024-11-15T10:20:07.361349Z",
     "iopub.status.idle": "2024-11-15T10:20:08.567800Z",
     "shell.execute_reply": "2024-11-15T10:20:08.566576Z",
     "shell.execute_reply.started": "2024-11-15T10:20:07.361769Z"
    }
   },
   "outputs": [
    {
     "name": "stdout",
     "output_type": "stream",
     "text": [
      "         Date Format Type   Count\n",
      "0  Full date (YYYY-MM-DD)  242099\n",
      "1                   Empty   77671\n",
      "2               Year only   10248\n",
      "3              Year-Month     543\n",
      "4  Datetime with timezone      11\n"
     ]
    }
   ],
   "source": [
    "import re\n",
    "\n",
    "\n",
    "def classify_date_format(date_str):\n",
    "    if pd.isna(date_str) or date_str.strip() == '':\n",
    "        return 'Empty'\n",
    "    elif re.match(r'^\\d{4}$', date_str):  # Matches year only format (e.g., '1953')\n",
    "        return 'Year only'\n",
    "    elif re.match(r'^\\d{4}-\\d{2}$', date_str):  # Matches year-month format (e.g., '1938-01')\n",
    "        return 'Year-Month'\n",
    "    elif re.match(r'^\\d{4}-\\d{2}-\\d{2}$', date_str):  # Matches full date (e.g., '1971-10-06')\n",
    "        return 'Full date (YYYY-MM-DD)'\n",
    "    elif re.match(r'^\\d{4}-\\d{2}-\\d{2}T\\d{2}:\\d{2}(:\\d{2})?([+-]\\d{2}:\\d{2})?$', date_str):\n",
    "        # Matches datetime with optional seconds and timezone (e.g., '1961-08-04T19:24-10:00')\n",
    "        return 'Datetime with timezone'\n",
    "    else:\n",
    "        return 'Other'\n",
    "\n",
    "CharacterMeta['Date Format Type'] = CharacterMeta['Actor date of birth'].fillna(\"\").apply(classify_date_format)\n",
    "date_format_counts = CharacterMeta['Date Format Type'].value_counts(dropna=False).reset_index()\n",
    "date_format_counts.columns = ['Date Format Type', 'Count']\n",
    "\n",
    "print(date_format_counts)\n",
    "\n",
    "\n"
   ]
  },
  {
   "cell_type": "code",
   "execution_count": 5,
   "id": "569150be-2ca6-4ff1-b94f-cabef55cf048",
   "metadata": {
    "execution": {
     "iopub.execute_input": "2024-11-15T10:20:08.569705Z",
     "iopub.status.busy": "2024-11-15T10:20:08.569284Z",
     "iopub.status.idle": "2024-11-15T10:20:08.629850Z",
     "shell.execute_reply": "2024-11-15T10:20:08.628094Z",
     "shell.execute_reply.started": "2024-11-15T10:20:08.569650Z"
    }
   },
   "outputs": [
    {
     "name": "stdout",
     "output_type": "stream",
     "text": [
      "Completed: types of data representation are all detected.\n"
     ]
    }
   ],
   "source": [
    "# Filter to show only rows where the Date Format Type is 'Other'\n",
    "# These code were run several times to gradually clean out the 'other' format than full date format.\n",
    "other_formats = CharacterMeta[CharacterMeta['Date Format Type'] == 'Other']\n",
    "\n",
    "other_format_counts = other_formats['Actor date of birth'].value_counts().reset_index()\n",
    "other_format_counts.columns = ['Actor date of birth', 'Count']\n",
    "\n",
    "if other_format_counts.empty:\n",
    "    print('Completed: types of data representation are all detected.')\n",
    "else:\n",
    "    print(other_format_counts)\n"
   ]
  },
  {
   "cell_type": "markdown",
   "id": "579c445e-c9f2-4ac4-8ece-1264e23f2c17",
   "metadata": {},
   "source": [
    "## 3, Data Cleaning\n",
    "\n",
    "After sorting out all the datatypes, we can start cleaning dataset."
   ]
  },
  {
   "cell_type": "code",
   "execution_count": 6,
   "id": "381c1893-c442-4f24-89d9-9db4f2429f22",
   "metadata": {
    "execution": {
     "iopub.execute_input": "2024-11-15T10:20:08.634782Z",
     "iopub.status.busy": "2024-11-15T10:20:08.634447Z",
     "iopub.status.idle": "2024-11-15T10:20:10.149875Z",
     "shell.execute_reply": "2024-11-15T10:20:10.147665Z",
     "shell.execute_reply.started": "2024-11-15T10:20:08.634752Z"
    }
   },
   "outputs": [
    {
     "name": "stdout",
     "output_type": "stream",
     "text": [
      "         Date Format Type   Count\n",
      "0  Full date (YYYY-MM-DD)  242110\n",
      "Number of missing or invalid birthdates: 0\n"
     ]
    }
   ],
   "source": [
    "CharacterMeta_cleaned = CharacterMeta.copy()\n",
    "\n",
    "# Filter out rows with \"Empty\", \"Year only\", and \"Year-Month\" in the 'Date Format Type' column\n",
    "CharacterMeta_cleaned = CharacterMeta_cleaned[\n",
    "    ~CharacterMeta_cleaned['Date Format Type'].isin(['Empty', 'Year only', 'Year-Month'])\n",
    "]\n",
    "\n",
    "\n",
    "def convert_to_date_only(date_str):\n",
    "    if 'T' in date_str:\n",
    "        return date_str[:10]  # Extract only the 'YYYY-MM-DD' part\n",
    "    return date_str\n",
    "    \n",
    "CharacterMeta_cleaned['Actor date of birth'] = CharacterMeta_cleaned['Actor date of birth'].apply(convert_to_date_only)\n",
    "\n",
    "\n",
    "# Verify\n",
    "CharacterMeta_cleaned['Date Format Type'] = CharacterMeta_cleaned['Actor date of birth'].fillna(\"\").apply(classify_date_format)\n",
    "date_format_counts = CharacterMeta_cleaned['Date Format Type'].value_counts(dropna=False).reset_index()\n",
    "date_format_counts.columns = ['Date Format Type', 'Count']\n",
    "print(date_format_counts)\n",
    "\n",
    "# Check again\n",
    "missing_birthdates = CharacterMeta_cleaned['Actor date of birth'].isna().sum()\n",
    "print(f\"Number of missing or invalid birthdates: {missing_birthdates}\")\n"
   ]
  },
  {
   "cell_type": "markdown",
   "id": "de90323d-b28b-4c9f-860d-6f9bc6206b7a",
   "metadata": {},
   "source": [
    "### Keep searching for invalid data\n",
    "Now, all the data are in the form of YYYY-MM-DD. However, we can't simply trust the data recorders just like that. What if a 0000-00-00 exsits?\n",
    "After searching, we find a useful library called datetime, which can automatically convert invalid data to none."
   ]
  },
  {
   "cell_type": "code",
   "execution_count": 7,
   "id": "d63f1ef2-c309-4b6a-993c-8ee1bd94f8eb",
   "metadata": {
    "execution": {
     "iopub.execute_input": "2024-11-15T10:20:10.151444Z",
     "iopub.status.busy": "2024-11-15T10:20:10.151140Z",
     "iopub.status.idle": "2024-11-15T10:20:10.228614Z",
     "shell.execute_reply": "2024-11-15T10:20:10.227262Z",
     "shell.execute_reply.started": "2024-11-15T10:20:10.151387Z"
    }
   },
   "outputs": [
    {
     "name": "stdout",
     "output_type": "stream",
     "text": [
      "Invalid dates before cleaning:\n",
      "       Original Actor date of birth\n",
      "39426                    0019-11-28\n",
      "42282                    0019-10-30\n",
      "45079                    0019-03-22\n",
      "80338                    0019-11-28\n",
      "92870                    1075-08-19\n",
      "107165                   0852-03-10\n",
      "137375                   0195-02-07\n",
      "163427                   0019-02-22\n",
      "172159                   1075-08-19\n",
      "246641                   0019-11-26\n",
      "290659                   0019-11-28\n",
      "300064                   2896-04-26\n",
      "322332                   9900-09-07\n",
      "325420                   0019-11-28\n"
     ]
    }
   ],
   "source": [
    "# Create a backup of the original 'Actor date of birth' column\n",
    "CharacterMeta_cleaned['Original Actor date of birth'] = CharacterMeta_cleaned['Actor date of birth']\n",
    "\n",
    "# Attempt to convert 'Actor date of birth' to datetime, marking invalid ones as NaT\n",
    "CharacterMeta_cleaned['Converted Date'] = pd.to_datetime(CharacterMeta_cleaned['Actor date of birth'], errors='coerce')\n",
    "\n",
    "invalid_dates = CharacterMeta_cleaned[CharacterMeta_cleaned['Converted Date'].isna()]\n",
    "\n",
    "print(\"Invalid dates before cleaning:\")\n",
    "print(invalid_dates[['Original Actor date of birth']])"
   ]
  },
  {
   "cell_type": "markdown",
   "id": "5e18c578-6d3c-4eb8-ab9c-cef0e07d0607",
   "metadata": {},
   "source": [
    "This dataset is really not trustworthy. Anyway, after cleaned these data out, the data are finally cleaned. though, the accuracy is still a question, but we decided not to delve in it too much, avoiding making the whole project becoming meaningless."
   ]
  },
  {
   "cell_type": "code",
   "execution_count": 8,
   "id": "de291c5e-13a3-49d9-8c88-850d66efcf99",
   "metadata": {
    "execution": {
     "iopub.execute_input": "2024-11-15T10:20:10.229999Z",
     "iopub.status.busy": "2024-11-15T10:20:10.229690Z",
     "iopub.status.idle": "2024-11-15T10:20:10.389860Z",
     "shell.execute_reply": "2024-11-15T10:20:10.388488Z",
     "shell.execute_reply.started": "2024-11-15T10:20:10.229972Z"
    }
   },
   "outputs": [],
   "source": [
    "# Drop rows where 'Converted Date' is NaT\n",
    "CharacterMeta_cleaned = CharacterMeta_cleaned.dropna(subset=['Converted Date'])\n",
    "\n",
    "# Replace the old 'Actor date of birth' with 'Converted Date' and drop 'Original Actor date of birth'\n",
    "CharacterMeta_cleaned['Actor date of birth'] = CharacterMeta_cleaned['Converted Date']\n",
    "CharacterMeta_cleaned = CharacterMeta_cleaned.drop(columns=['Original Actor date of birth', 'Converted Date', 'Date Format Type'])\n"
   ]
  },
  {
   "cell_type": "code",
   "execution_count": 9,
   "id": "fc006441-4cf0-471c-8536-13c4a508c7bc",
   "metadata": {
    "execution": {
     "iopub.execute_input": "2024-11-15T10:20:10.391029Z",
     "iopub.status.busy": "2024-11-15T10:20:10.390740Z",
     "iopub.status.idle": "2024-11-15T10:20:10.407959Z",
     "shell.execute_reply": "2024-11-15T10:20:10.405003Z",
     "shell.execute_reply.started": "2024-11-15T10:20:10.391004Z"
    }
   },
   "outputs": [
    {
     "name": "stdout",
     "output_type": "stream",
     "text": [
      "   Wikipedia movie ID Freebase movie ID Movie release date  \\\n",
      "0              975900         /m/03vyhn         2001-08-24   \n",
      "1              975900         /m/03vyhn         2001-08-24   \n",
      "2              975900         /m/03vyhn         2001-08-24   \n",
      "3              975900         /m/03vyhn         2001-08-24   \n",
      "4              975900         /m/03vyhn         2001-08-24   \n",
      "\n",
      "               Character name Actor date of birth Actor gender  Actor height  \\\n",
      "0  Lieutenant Melanie Ballard          1974-08-15            F         1.780   \n",
      "1         Desolation Williams          1969-06-15            M         1.727   \n",
      "2          Sgt Jericho Butler          1967-09-12            M         1.750   \n",
      "3             Bashira Kincaid          1977-09-25            F         1.650   \n",
      "4   Commander Helena Braddock          1949-05-26            F         1.727   \n",
      "\n",
      "  Actor ethnicity          Actor name  Actor age at movie release  \\\n",
      "0      /m/044038p  Natasha Henstridge                        27.0   \n",
      "1         /m/0x67            Ice Cube                        32.0   \n",
      "2             NaN       Jason Statham                        33.0   \n",
      "3             NaN         Clea DuVall                        23.0   \n",
      "4         /m/0x67           Pam Grier                        52.0   \n",
      "\n",
      "  Freebase character/actor map ID Freebase character ID Freebase actor ID  \n",
      "0                       /m/0jys3m            /m/0bgchn4         /m/0346l4  \n",
      "1                       /m/0jys3g            /m/0bgchn_        /m/01vw26l  \n",
      "2                      /m/02vchl6            /m/0bgchnq         /m/034hyc  \n",
      "3                      /m/02vbb3r            /m/0bgchp9         /m/01y9xg  \n",
      "4                      /m/02vdcfp            /m/0bgchnd         /m/0418ft  \n",
      "\n",
      "Number of remaining rows: 242096\n"
     ]
    }
   ],
   "source": [
    "print(CharacterMeta_cleaned.head())\n",
    "print(f\"\\nNumber of remaining rows: {len(CharacterMeta_cleaned)}\")"
   ]
  },
  {
   "cell_type": "markdown",
   "id": "24ddcfae-fb22-4164-9330-e90008ad67c9",
   "metadata": {},
   "source": [
    "### Data Cleaning Summary\n",
    "\n",
    "The dataset underwent the following cleaning steps to ensure consistent date formats in the `'Actor date of birth'` column:\n",
    "\n",
    "1. **Initial Data Exploration**:\n",
    "   - The dataset initially included several formats in the `'Actor date of birth'` column, such as:\n",
    "     - Full date format (`YYYY-MM-DD`)\n",
    "     - Year-only (`YYYY`)\n",
    "     - Year-Month (`YYYY-MM`)\n",
    "     - Datetime with timezone (`YYYY-MM-DDTHH:MM:SS±HH:MM`)\n",
    "\n",
    "2. **Removal of Non-Standard Date Entries**:\n",
    "   - Rows where `'Actor date of birth'` was empty or in partial formats like `Year-only` and `Year-Month` were filtered out, as they didn’t meet the criteria for accurate zodiac determination.\n",
    "\n",
    "3. **Date Format Conversion**:\n",
    "   - Entries in the `Datetime with timezone` format were converted to the `Full date` format (`YYYY-MM-DD`) by extracting only the date portion.\n",
    "   - A total of 14 dates remained invalid after the initial parsing; these were rechecked, and rows containing them were subsequently removed.\n",
    "\n",
    "4. **Final Column Adjustments**:\n",
    "   - The converted date information replaced the original `'Actor date of birth'` column.\n",
    "   - Columns used during the transformation, such as `'Original Actor date of birth'` and `'Converted Date'`, were dropped to streamline the dataset.\n",
    "\n",
    "### Result:\n",
    "- The cleaned dataset now contains **242,096 rows**, with all entries in the `'Actor date of birth'` column in the `YYYY-MM-DD` format, allowing for accurate date-related analysis, including zodiac sign determination.\n",
    "\n",
    "This ensures consistent and complete data for further exploration and analysis.\n",
    "\n"
   ]
  },
  {
   "cell_type": "markdown",
   "id": "69fc289a-dfa8-4878-aa64-a5a0bf319fab",
   "metadata": {},
   "source": [
    "\n",
    "\n",
    "## 4, Define Zodiac Sign Function\n",
    "Now the data is cleaned. These data will be used to represent the zodiac. It's time to define the zodiac sign function."
   ]
  },
  {
   "cell_type": "code",
   "execution_count": 10,
   "id": "612130c8-63ca-494c-9c24-363c0717d3d6",
   "metadata": {
    "execution": {
     "iopub.execute_input": "2024-11-15T10:20:10.409082Z",
     "iopub.status.busy": "2024-11-15T10:20:10.408795Z",
     "iopub.status.idle": "2024-11-15T10:20:12.400037Z",
     "shell.execute_reply": "2024-11-15T10:20:12.396905Z",
     "shell.execute_reply.started": "2024-11-15T10:20:10.409057Z"
    }
   },
   "outputs": [
    {
     "name": "stdout",
     "output_type": "stream",
     "text": [
      "    Zodiac Sign  Count\n",
      "0        Gemini  21758\n",
      "1           Leo  21125\n",
      "2         Libra  21061\n",
      "3         Virgo  20847\n",
      "4        Cancer  20577\n",
      "5         Aries  20277\n",
      "6        Pisces  20017\n",
      "7      Aquarius  20001\n",
      "8       Scorpio  19520\n",
      "9   Sagittarius  19160\n",
      "10       Taurus  19100\n",
      "11    Capricorn  18653\n"
     ]
    }
   ],
   "source": [
    "# Zodiac sign function provided by user (modified to clarify the Capricorn range)\n",
    "def get_zodiac_sign(birthdate):\n",
    "    if pd.isna(birthdate):  # Check for NaT\n",
    "        return None\n",
    "    month_day = birthdate.strftime(\"%m-%d\")  # Extract 'MM-DD' as a string\n",
    "    if \"03-21\" <= month_day <= \"04-19\":\n",
    "        return \"Aries\"\n",
    "    elif \"04-20\" <= month_day <= \"05-20\":\n",
    "        return \"Taurus\"\n",
    "    elif \"05-21\" <= month_day <= \"06-20\":\n",
    "        return \"Gemini\"\n",
    "    elif \"06-21\" <= month_day <= \"07-22\":\n",
    "        return \"Cancer\"\n",
    "    elif \"07-23\" <= month_day <= \"08-22\":\n",
    "        return \"Leo\"\n",
    "    elif \"08-23\" <= month_day <= \"09-22\":\n",
    "        return \"Virgo\"\n",
    "    elif \"09-23\" <= month_day <= \"10-22\":\n",
    "        return \"Libra\"\n",
    "    elif \"10-23\" <= month_day <= \"11-21\":\n",
    "        return \"Scorpio\"\n",
    "    elif \"11-22\" <= month_day <= \"12-21\":\n",
    "        return \"Sagittarius\"\n",
    "    elif \"12-22\" <= month_day <= \"12-31\" or \"01-01\" <= month_day <= \"01-19\":\n",
    "        return \"Capricorn\"\n",
    "    elif \"01-20\" <= month_day <= \"02-18\":\n",
    "        return \"Aquarius\"\n",
    "    elif \"02-19\" <= month_day <= \"03-20\":\n",
    "        return \"Pisces\"\n",
    "    return None\n",
    "\n",
    "\n",
    "\n",
    "CharacterMeta_cleaned['Zodiac Sign'] = CharacterMeta_cleaned['Actor date of birth'].apply(get_zodiac_sign)\n",
    "\n",
    "# count the occurrences of each zodiac\n",
    "zodiac_counts = CharacterMeta_cleaned['Zodiac Sign'].value_counts(dropna=False).reset_index()\n",
    "zodiac_counts.columns = ['Zodiac Sign', 'Count']\n",
    "\n",
    "zodiac_counts = zodiac_counts.sort_values(by=\"Count\", ascending=False)\n",
    "print(zodiac_counts)\n"
   ]
  },
  {
   "cell_type": "markdown",
   "id": "a6647adb-51dc-410e-ba0a-ecfd71aac016",
   "metadata": {},
   "source": [
    "### Illustration\n"
   ]
  },
  {
   "cell_type": "code",
   "execution_count": 11,
   "id": "b101eebb-f916-4509-b395-2e60ddd9f8f0",
   "metadata": {
    "execution": {
     "iopub.execute_input": "2024-11-15T10:20:12.401649Z",
     "iopub.status.busy": "2024-11-15T10:20:12.401286Z",
     "iopub.status.idle": "2024-11-15T10:20:14.375510Z",
     "shell.execute_reply": "2024-11-15T10:20:14.374455Z",
     "shell.execute_reply.started": "2024-11-15T10:20:12.401618Z"
    }
   },
   "outputs": [
    {
     "data": {
      "image/png": "[encoded data removed]",
      "text/plain": [
       "<Figure size 1000x600 with 1 Axes>"
      ]
     },
     "metadata": {},
     "output_type": "display_data"
    }
   ],
   "source": [
    "import seaborn as sns\n",
    "import matplotlib.pyplot as plt\n",
    "\n",
    "plt.figure(figsize=(10, 6))\n",
    "\n",
    "# Create a bar plot with a color map\n",
    "sns.barplot(x='Count', y='Zodiac Sign', data=zodiac_counts, palette='coolwarm_r',hue='Zodiac Sign',legend=False)\n",
    "\n",
    "# Add labels and title\n",
    "plt.title('Distribution of Zodiac Signs among Actors', fontsize=16)\n",
    "plt.xlabel('Count of Actors', fontsize=12)\n",
    "plt.ylabel('Zodiac Sign', fontsize=12)\n",
    "\n",
    "plt.tight_layout()\n",
    "plt.show()\n"
   ]
  },
  {
   "cell_type": "markdown",
   "id": "7a5499f4-ec60-4c69-8168-60df8da186bc",
   "metadata": {},
   "source": [
    "\n",
    "\n",
    "## 5, Significant?\n",
    "We used Z-test and Chi-square test to test whether the differences in the zodiac sign distribution are significant.\n",
    "\n",
    "### (1) Z-Test\n",
    "Compare observed proportion for **each zodiac sign** to the overall mean proportion."
   ]
  },
  {
   "cell_type": "code",
   "execution_count": 13,
   "id": "8cb75ff2-ff91-49c4-bdad-134ddf9f9e44",
   "metadata": {
    "execution": {
     "iopub.execute_input": "2024-11-15T10:20:54.506679Z",
     "iopub.status.busy": "2024-11-15T10:20:54.504086Z",
     "iopub.status.idle": "2024-11-15T10:20:54.536717Z",
     "shell.execute_reply": "2024-11-15T10:20:54.535182Z",
     "shell.execute_reply.started": "2024-11-15T10:20:54.506589Z"
    }
   },
   "outputs": [
    {
     "name": "stdout",
     "output_type": "stream",
     "text": [
      "    Zodiac Sign  Proportion    Z-Score       P-Value  Significant?\n",
      "0        Gemini    0.089873  11.642961  0.000000e+00          True\n",
      "1           Leo    0.087259   6.988228  2.783773e-12          True\n",
      "2         Libra    0.086994   6.517607  7.143774e-11          True\n",
      "3         Virgo    0.086110   4.943969  7.654788e-07          True\n",
      "4        Cancer    0.084995   2.958538  3.091024e-03          True\n",
      "5         Aries    0.083756   0.752503  4.517486e-01         False\n",
      "6        Pisces    0.082682  -1.159394  2.462957e-01         False\n",
      "7      Aquarius    0.082616  -1.277049  2.015849e-01         False\n",
      "8       Scorpio    0.080629  -4.814058  1.478958e-06          True\n",
      "9   Sagittarius    0.079142  -7.461300  8.570922e-14          True\n",
      "10       Taurus    0.078894  -7.902507  2.664535e-15          True\n",
      "11    Capricorn    0.077048 -11.189499  0.000000e+00          True\n"
     ]
    }
   ],
   "source": [
    "from scipy.stats import norm\n",
    "\n",
    "# Compute the observed proportions\n",
    "total_count = zodiac_counts['Count'].sum()\n",
    "zodiac_counts['Proportion'] = zodiac_counts['Count'] / total_count\n",
    "\n",
    "# Compute the overall mean proportion\n",
    "mean_proportion = 1 / len(zodiac_counts['Zodiac Sign'].dropna())\n",
    "std_proportion = np.sqrt(mean_proportion * (1 - mean_proportion) / total_count)\n",
    "\n",
    "# Calculate z-scores and p-values\n",
    "zodiac_counts['Z-Score'] = (zodiac_counts['Proportion'] - mean_proportion) / std_proportion\n",
    "zodiac_counts['P-Value'] = 2 * (1 - norm.cdf(abs(zodiac_counts['Z-Score'])))\n",
    "\n",
    "# Check significance level = 0.05\n",
    "zodiac_counts['Significant?'] = zodiac_counts['P-Value'] < 0.05\n",
    "\n",
    "print(zodiac_counts[['Zodiac Sign', 'Proportion', 'Z-Score', 'P-Value', 'Significant?']])\n"
   ]
  },
  {
   "cell_type": "markdown",
   "id": "fcdc3f40-8fb2-48e7-899e-373f151c482a",
   "metadata": {},
   "source": [
    "### Z-Scores Observations\n",
    "- Significant deviations: Signs like **Gemini**, **Leo**, **Libra**, **Virgo**, **Scorpio**, **Sagittarius**, **Taurus**, and **Capricorn** show statistically significant differences (*p-value* < 0.05).  \n",
    "- No significant difference: Signs like **Aries**, **Pisces**, and **Aquarius** have proportions that are not significantly different from the expected uniform distribution (*p-value* > 0.05).  \n",
    "\n",
    "This means that these three signs are more evenly represented relative to the expected proportion, whereas the others are either overrepresented or underrepresented significantly.\n"
   ]
  },
  {
   "cell_type": "markdown",
   "id": "64422a67-5a29-4a5c-82ca-abfa967db718",
   "metadata": {},
   "source": [
    "### (2) Chi-square test\n",
    "Compare the observed zodiac distribution to an expected uniform distribution."
   ]
  },
  {
   "cell_type": "code",
   "execution_count": 14,
   "id": "1f798b87-e1eb-4fff-90e2-24c3892defc6",
   "metadata": {
    "execution": {
     "iopub.execute_input": "2024-11-15T10:21:03.214966Z",
     "iopub.status.busy": "2024-11-15T10:21:03.213736Z",
     "iopub.status.idle": "2024-11-15T10:21:03.233999Z",
     "shell.execute_reply": "2024-11-15T10:21:03.231797Z",
     "shell.execute_reply.started": "2024-11-15T10:21:03.214848Z"
    }
   },
   "outputs": [
    {
     "name": "stdout",
     "output_type": "stream",
     "text": [
      "Chi-Square Statistic: 485.9349018571145\n",
      "P-Value: 3.1972114794589453e-97\n",
      "Reject H0: The zodiac distribution is significantly different from uniform.\n"
     ]
    }
   ],
   "source": [
    "from scipy.stats import chisquare\n",
    "\n",
    "# Expected uniform distribution\n",
    "expected_counts = [total_count / len(zodiac_counts['Zodiac Sign'].dropna())] * len(zodiac_counts['Zodiac Sign'].dropna())\n",
    "\n",
    "# Observed counts\n",
    "observed_counts = zodiac_counts['Count'].dropna()\n",
    "\n",
    "chi2_stat, p_value = chisquare(f_obs=observed_counts, f_exp=expected_counts)\n",
    "\n",
    "print(f\"Chi-Square Statistic: {chi2_stat}\")\n",
    "print(f\"P-Value: {p_value}\")\n",
    "\n",
    "# Check significance level\n",
    "if p_value < 0.05:\n",
    "    print(\"Reject H0: The zodiac distribution is significantly different from uniform.\")\n",
    "else:\n",
    "    print(\"Fail to reject H0: The zodiac distribution is not significantly different from uniform.\")\n"
   ]
  },
  {
   "cell_type": "markdown",
   "id": "f79433c0-589a-417f-919d-55c1361459a8",
   "metadata": {},
   "source": [
    "# Note for groupmate\n",
    "\n",
    "As we added a 'Zodiac sign' column, use the newest _getCharacterMeta_ function"
   ]
  },
  {
   "cell_type": "code",
   "execution_count": 15,
   "id": "881e94df-5b99-4fdd-bcd4-663e2d912e11",
   "metadata": {
    "execution": {
     "iopub.execute_input": "2024-11-15T10:21:04.018242Z",
     "iopub.status.busy": "2024-11-15T10:21:04.017274Z",
     "iopub.status.idle": "2024-11-15T10:21:04.034258Z",
     "shell.execute_reply": "2024-11-15T10:21:04.032671Z",
     "shell.execute_reply.started": "2024-11-15T10:21:04.018163Z"
    }
   },
   "outputs": [],
   "source": [
    "# print(CharacterMeta_cleaned)"
   ]
  },
  {
   "cell_type": "code",
   "execution_count": 16,
   "id": "c581e718-4f8d-425f-9889-709741845b19",
   "metadata": {
    "execution": {
     "iopub.execute_input": "2024-11-15T10:21:04.351262Z",
     "iopub.status.busy": "2024-11-15T10:21:04.345902Z",
     "iopub.status.idle": "2024-11-15T10:21:04.373016Z",
     "shell.execute_reply": "2024-11-15T10:21:04.369142Z",
     "shell.execute_reply.started": "2024-11-15T10:21:04.351190Z"
    }
   },
   "outputs": [
    {
     "name": "stdout",
     "output_type": "stream",
     "text": [
      "File already exists: ../data/ProcessedDatasets/cleaned.character.metadata.tsv. Export skipped.\n"
     ]
    }
   ],
   "source": [
    "import os\n",
    "\n",
    "output_directory = '../data/ProcessedDatasets/'\n",
    "output_filename = 'cleaned.character.metadata.tsv'\n",
    "output_path = os.path.join(output_directory, output_filename)\n",
    "\n",
    "# Ensure the directory exists\n",
    "os.makedirs(output_directory, exist_ok=True)\n",
    "\n",
    "# Check if the file already exists\n",
    "if not os.path.exists(output_path):\n",
    "    CharacterMeta_cleaned.to_csv(output_path, sep='\\t', index=False)\n",
    "    print(f\"Dataset successfully exported to: {output_path}\")\n",
    "else:\n",
    "    print(f\"File already exists: {output_path}. Export skipped.\")\n"
   ]
  },
  {
   "cell_type": "code",
   "execution_count": 17,
   "id": "b1cc3e56-85e4-4801-9eb0-194622319ee7",
   "metadata": {
    "execution": {
     "iopub.execute_input": "2024-11-15T10:21:04.625665Z",
     "iopub.status.busy": "2024-11-15T10:21:04.624716Z",
     "iopub.status.idle": "2024-11-15T10:21:04.639077Z",
     "shell.execute_reply": "2024-11-15T10:21:04.636640Z",
     "shell.execute_reply.started": "2024-11-15T10:21:04.625585Z"
    }
   },
   "outputs": [],
   "source": [
    "file_path = \"../data/ProcessedDatasets/cleaned.character.metadata.tsv\"\n",
    "def getCharacterMeta(filepath):\n",
    "    CharacterMeta = pd.read_csv(filepath, sep='\\t')\n",
    "    \n",
    "    CharacterMeta.columns = [\n",
    "        'Wikipedia movie ID',\n",
    "        'Freebase movie ID',\n",
    "        'Movie release date',\n",
    "        'Character name',\n",
    "        'Actor date of birth',\n",
    "        'Actor gender',\n",
    "        'Actor height',\n",
    "        'Actor ethnicity',\n",
    "        'Actor name',\n",
    "        'Actor age at movie release',\n",
    "        'Freebase character/actor map ID',\n",
    "        'Freebase character ID',\n",
    "        'Freebase actor ID',\n",
    "        'Zodiac sign'\n",
    "    ]\n",
    "    return CharacterMeta\n"
   ]
  },
  {
   "cell_type": "code",
   "execution_count": 18,
   "id": "314d9d92-308b-4e68-b993-9a7d0877f4a0",
   "metadata": {
    "execution": {
     "iopub.execute_input": "2024-11-15T10:21:04.923737Z",
     "iopub.status.busy": "2024-11-15T10:21:04.921910Z",
     "iopub.status.idle": "2024-11-15T10:21:06.182721Z",
     "shell.execute_reply": "2024-11-15T10:21:06.181363Z",
     "shell.execute_reply.started": "2024-11-15T10:21:04.923677Z"
    }
   },
   "outputs": [
    {
     "name": "stdout",
     "output_type": "stream",
     "text": [
      "Total records: 242096\n"
     ]
    }
   ],
   "source": [
    "CharacterMeta = getCharacterMeta(file_path)\n",
    "total_records = len(CharacterMeta)\n",
    "print(f\"Total records: {total_records}\")"
   ]
  }
 ],
 "metadata": {
  "kernelspec": {
   "display_name": "Python3",
   "language": "python",
   "name": "python3"
  },
  "language_info": {
   "codemirror_mode": {
    "name": "ipython",
    "version": 3
   },
   "file_extension": ".py",
   "mimetype": "text/x-python",
   "name": "python",
   "nbconvert_exporter": "python",
   "pygments_lexer": "ipython3",
   "version": "3.12.5"
  }
 },
 "nbformat": 4,
 "nbformat_minor": 5
}
