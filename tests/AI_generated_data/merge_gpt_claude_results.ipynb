{
 "cells": [
  {
   "cell_type": "code",
   "execution_count": 2,
   "id": "34c756a0-ab2b-4911-8501-025b246f9f0e",
   "metadata": {
    "execution": {
     "iopub.execute_input": "2024-12-02T12:52:25.644655Z",
     "iopub.status.busy": "2024-12-02T12:52:25.642496Z",
     "iopub.status.idle": "2024-12-02T12:52:28.415149Z",
     "shell.execute_reply": "2024-12-02T12:52:28.413898Z",
     "shell.execute_reply.started": "2024-12-02T12:52:25.644561Z"
    }
   },
   "outputs": [
    {
     "name": "stdout",
     "output_type": "stream",
     "text": [
      "Merge completed!\n",
      "Total characters: 103071\n",
      "Characters with AI agreement: 67580\n",
      "Main characters (agreed): 20773\n"
     ]
    }
   ],
   "source": [
    "import pandas as pd\n",
    "import json\n",
    "import os\n",
    "from tqdm import tqdm\n",
    "def merge_results():\n",
    "    \"\"\"\n",
    "    Merge GPT and Claude results and determine final decisions\n",
    "    \"\"\"\n",
    "    gpt_results = pd.read_csv('MovieSummaries/character_metadata_with_gpt.tsv', sep='\\t')\n",
    "    claude_results = pd.read_csv('MovieSummaries/character_metadata_with_claude.tsv', sep='\\t')\n",
    "    \n",
    "    # Merge the results\n",
    "    final_results = gpt_results.merge(\n",
    "        claude_results[['Wikipedia movie ID', 'Actor name', 'claude_decision']],\n",
    "        on=['Wikipedia movie ID', 'Actor name'],\n",
    "        how='outer'\n",
    "    )\n",
    "    \n",
    "    # Determine agreement and final decision\n",
    "    final_results['ai_agreement'] = False\n",
    "    final_results['is_main_character'] = None\n",
    "    \n",
    "    mask = (final_results['gpt_decision'].notna() & \n",
    "            final_results['claude_decision'].notna() & \n",
    "            (final_results['gpt_decision'] == final_results['claude_decision']))\n",
    "    \n",
    "    final_results.loc[mask, 'ai_agreement'] = True\n",
    "    final_results.loc[mask, 'is_main_character'] = final_results.loc[mask, 'gpt_decision']\n",
    "    \n",
    "    # Save final results\n",
    "    final_results.to_csv('MovieSummaries/character_metadata_with_roles_final.tsv', sep='\\t', index=False)\n",
    "    \n",
    "    # Print statistics\n",
    "    print(\"Merge completed!\")\n",
    "    print(f\"Total characters: {len(final_results)}\")\n",
    "    print(f\"Characters with AI agreement: {final_results['ai_agreement'].sum()}\")\n",
    "    print(f\"Main characters (agreed): {final_results[final_results['ai_agreement']]['is_main_character'].sum()}\")\n",
    "\n",
    "if __name__ == \"__main__\":\n",
    "    merge_results()"
   ]
  },
  {
   "cell_type": "code",
   "execution_count": null,
   "id": "0903809d-d869-4da5-9aa6-de6076235501",
   "metadata": {},
   "outputs": [],
   "source": []
  }
 ],
 "metadata": {
  "kernelspec": {
   "display_name": "ada",
   "language": "python",
   "name": "ada"
  },
  "language_info": {
   "codemirror_mode": {
    "name": "ipython",
    "version": 3
   },
   "file_extension": ".py",
   "mimetype": "text/x-python",
   "name": "python",
   "nbconvert_exporter": "python",
   "pygments_lexer": "ipython3",
   "version": "3.12.5"
  }
 },
 "nbformat": 4,
 "nbformat_minor": 5
}
