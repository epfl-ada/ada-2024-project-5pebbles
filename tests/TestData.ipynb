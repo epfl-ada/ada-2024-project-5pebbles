{
 "cells": [
  {
   "cell_type": "code",
   "id": "initial_id",
   "metadata": {
    "collapsed": true,
    "ExecuteTime": {
     "end_time": "2024-11-01T13:20:45.385379Z",
     "start_time": "2024-11-01T13:20:44.160977Z"
    }
   },
   "source": [
    "import pandas as pd\n",
    "\n",
    "def getMovieMeta(filepath):\n",
    "\n",
    "    # Read the file\n",
    "    MovieMeta = pd.read_csv(filepath, sep='\\t')\n",
    "\n",
    "    # Rename each column\n",
    "    MovieMeta.columns=['Wikipedia movie ID',\n",
    "                       'Freebase movie ID',\n",
    "                       'Movie name',\n",
    "                       'Movie release date',\n",
    "                       'Movie box office revenue',\n",
    "                       'Movie runtime',\n",
    "                       'Movie languages',\n",
    "                       'Movie countries',\n",
    "                       'Movie genres']\n",
    "    return MovieMeta\n",
    "\n",
    "\n",
    "def getCharacterMeta(filepath):\n",
    "\n",
    "    # Read the file\n",
    "    CharacterMeta=pd.read_csv(filepath, sep='\\t')\n",
    "\n",
    "    # Rename each column\n",
    "    CharacterMeta.columns=['Wikipedia movie ID',\n",
    "                           'Freebase movie ID',\n",
    "                           'Movie release date',\n",
    "                           'Character name',\n",
    "                           'Actor date of birth',\n",
    "                           'Actor gender',\n",
    "                           'Actor height',\n",
    "                           'Actor ethnicity',\n",
    "                           'Actor name',\n",
    "                           'Actor age at movie release',\n",
    "                           'Freebase character/actor map ID',\n",
    "                           'Freebase character ID',\n",
    "                           'Freebase actor ID']\n",
    "    return CharacterMeta\n",
    "\n",
    "\n",
    "CharacterMeta=getCharacterMeta(r'F:\\courses\\AppiedDataAnalysis\\FinalProject\\Data\\MovieSummaries\\MovieSummaries\\character.metadata.tsv')\n",
    "MovieMeta=getMovieMeta(r'F:\\courses\\AppiedDataAnalysis\\FinalProject\\Data\\MovieSummaries\\MovieSummaries\\movie.metadata.tsv')\n",
    "\n"
   ],
   "outputs": [],
   "execution_count": 21
  },
  {
   "metadata": {
    "ExecuteTime": {
     "end_time": "2024-11-01T13:11:18.464319Z",
     "start_time": "2024-11-01T13:11:18.441953Z"
    }
   },
   "cell_type": "code",
   "source": [
    "print(CharacterMeta['Movie release date'].isna().sum())\n",
    "print(CharacterMeta.shape)"
   ],
   "id": "3828330dec9e1380",
   "outputs": [
    {
     "name": "stdout",
     "output_type": "stream",
     "text": [
      "9995\n",
      "(450668, 13)\n"
     ]
    }
   ],
   "execution_count": 11
  },
  {
   "metadata": {
    "ExecuteTime": {
     "end_time": "2024-11-01T13:42:24.150267Z",
     "start_time": "2024-11-01T13:42:24.137312Z"
    }
   },
   "cell_type": "code",
   "source": "print(CharacterMeta['Actor height'].isna().sum())",
   "id": "8c02655aaf5da9c0",
   "outputs": [
    {
     "name": "stdout",
     "output_type": "stream",
     "text": [
      "295845\n"
     ]
    }
   ],
   "execution_count": 31
  },
  {
   "metadata": {
    "ExecuteTime": {
     "end_time": "2024-11-01T13:10:47.265097Z",
     "start_time": "2024-11-01T13:10:47.242072Z"
    }
   },
   "cell_type": "code",
   "source": "print(CharacterMeta['Actor date of birth'].isna().sum())\n",
   "id": "ae1049485ced5da1",
   "outputs": [
    {
     "name": "stdout",
     "output_type": "stream",
     "text": [
      "106145\n"
     ]
    }
   ],
   "execution_count": 10
  },
  {
   "metadata": {
    "ExecuteTime": {
     "end_time": "2024-11-01T13:12:02.040129Z",
     "start_time": "2024-11-01T13:12:02.016371Z"
    }
   },
   "cell_type": "code",
   "source": "print(CharacterMeta['Actor gender'].isna().sum())",
   "id": "abf1f8ec4a080b2e",
   "outputs": [
    {
     "name": "stdout",
     "output_type": "stream",
     "text": [
      "45609\n"
     ]
    }
   ],
   "execution_count": 12
  },
  {
   "metadata": {
    "ExecuteTime": {
     "end_time": "2024-11-01T13:12:39.476966Z",
     "start_time": "2024-11-01T13:12:39.461429Z"
    }
   },
   "cell_type": "code",
   "source": "print(CharacterMeta['Actor ethnicity'].isna().sum())",
   "id": "848d3ab18280a540",
   "outputs": [
    {
     "name": "stdout",
     "output_type": "stream",
     "text": [
      "344610\n"
     ]
    }
   ],
   "execution_count": 14
  },
  {
   "metadata": {
    "ExecuteTime": {
     "end_time": "2024-11-01T13:40:20.946486Z",
     "start_time": "2024-11-01T13:40:20.923757Z"
    }
   },
   "cell_type": "code",
   "source": "print(CharacterMeta['Actor name'].isna().sum())",
   "id": "a4d704bede26fa8e",
   "outputs": [
    {
     "name": "stdout",
     "output_type": "stream",
     "text": [
      "1228\n"
     ]
    }
   ],
   "execution_count": 30
  },
  {
   "metadata": {
    "ExecuteTime": {
     "end_time": "2024-11-01T13:13:05.943888Z",
     "start_time": "2024-11-01T13:13:05.932309Z"
    }
   },
   "cell_type": "code",
   "source": "print(CharacterMeta['Actor age at movie release'].isna().sum())",
   "id": "d34a07f5b8a89ae3",
   "outputs": [
    {
     "name": "stdout",
     "output_type": "stream",
     "text": [
      "158113\n"
     ]
    }
   ],
   "execution_count": 16
  },
  {
   "metadata": {
    "ExecuteTime": {
     "end_time": "2024-11-01T13:15:22.710212Z",
     "start_time": "2024-11-01T13:15:22.695315Z"
    }
   },
   "cell_type": "code",
   "source": "print(CharacterMeta['Freebase character ID'].isna().sum())",
   "id": "433dd3200734ce8f",
   "outputs": [
    {
     "name": "stdout",
     "output_type": "stream",
     "text": [
      "257865\n"
     ]
    }
   ],
   "execution_count": 18
  },
  {
   "metadata": {
    "ExecuteTime": {
     "end_time": "2024-11-01T13:21:21.310254Z",
     "start_time": "2024-11-01T13:21:21.296895Z"
    }
   },
   "cell_type": "code",
   "source": "print(MovieMeta['Movie name'].isna().sum())",
   "id": "e5253dc00232849b",
   "outputs": [
    {
     "name": "stdout",
     "output_type": "stream",
     "text": [
      "0\n"
     ]
    }
   ],
   "execution_count": 22
  },
  {
   "metadata": {
    "ExecuteTime": {
     "end_time": "2024-11-01T13:21:38.823014Z",
     "start_time": "2024-11-01T13:21:38.811736Z"
    }
   },
   "cell_type": "code",
   "source": "print(MovieMeta['Movie release date'].isna().sum())",
   "id": "4e16de9ec493c628",
   "outputs": [
    {
     "name": "stdout",
     "output_type": "stream",
     "text": [
      "6902\n"
     ]
    }
   ],
   "execution_count": 23
  },
  {
   "metadata": {
    "ExecuteTime": {
     "end_time": "2024-11-01T13:23:55.556567Z",
     "start_time": "2024-11-01T13:23:55.538730Z"
    }
   },
   "cell_type": "code",
   "source": [
    "print(MovieMeta['Movie box office revenue'].isna().sum())\n",
    "print(MovieMeta['Movie runtime'].isna().sum())\n",
    "print(MovieMeta['Movie languages'].isna().sum())\n",
    "print(MovieMeta['Movie countries'].isna().sum())\n",
    "print(MovieMeta['Movie genres'].isna().sum())\n",
    "print(MovieMeta.shape)"
   ],
   "id": "acf653b61a070314",
   "outputs": [
    {
     "name": "stdout",
     "output_type": "stream",
     "text": [
      "73340\n",
      "20450\n",
      "0\n",
      "0\n",
      "0\n",
      "(81740, 9)\n"
     ]
    }
   ],
   "execution_count": 28
  },
  {
   "metadata": {},
   "cell_type": "code",
   "outputs": [],
   "execution_count": null,
   "source": "",
   "id": "1c58f2ad36c8a20c"
  }
 ],
 "metadata": {
  "kernelspec": {
   "display_name": "Python 3",
   "language": "python",
   "name": "python3"
  },
  "language_info": {
   "codemirror_mode": {
    "name": "ipython",
    "version": 2
   },
   "file_extension": ".py",
   "mimetype": "text/x-python",
   "name": "python",
   "nbconvert_exporter": "python",
   "pygments_lexer": "ipython2",
   "version": "2.7.6"
  }
 },
 "nbformat": 4,
 "nbformat_minor": 5
}
